{
 "cells": [
  {
   "cell_type": "code",
   "execution_count": 1,
   "id": "b1e24595-59b6-4f0d-899f-5fbd831363f9",
   "metadata": {},
   "outputs": [
    {
     "name": "stdout",
     "output_type": "stream",
     "text": [
      "Hello World\n"
     ]
    }
   ],
   "source": [
    "print(\"Hello World\")"
   ]
  },
  {
   "cell_type": "code",
   "execution_count": null,
   "id": "466a9b4a-c490-42b9-b126-2173678de036",
   "metadata": {},
   "outputs": [],
   "source": []
  },
  {
   "cell_type": "code",
   "execution_count": 2,
   "id": "690531e1-9677-4718-88e0-8e18ea622df3",
   "metadata": {},
   "outputs": [
    {
     "name": "stdout",
     "output_type": "stream",
     "text": [
      "<class 'float'>\n",
      "<class 'str'>\n",
      "<class 'bool'>\n",
      "<class 'int'>\n"
     ]
    }
   ],
   "source": [
    "print(type(4520.2))\n",
    "print(type(\"Subahjyoti\"))\n",
    "print(type(True))\n",
    "print(type(948))"
   ]
  },
  {
   "cell_type": "code",
   "execution_count": 3,
   "id": "f39e5951-d14c-480d-a516-134be4e73402",
   "metadata": {},
   "outputs": [
    {
     "data": {
      "text/plain": [
       "110"
      ]
     },
     "execution_count": 3,
     "metadata": {},
     "output_type": "execute_result"
    }
   ],
   "source": [
    "77+33"
   ]
  },
  {
   "cell_type": "code",
   "execution_count": 4,
   "id": "20bbe9e9-86a8-4859-9318-685347e4f018",
   "metadata": {},
   "outputs": [
    {
     "data": {
      "text/plain": [
       "220.0"
      ]
     },
     "execution_count": 4,
     "metadata": {},
     "output_type": "execute_result"
    }
   ],
   "source": [
    "30+50/10*40-10"
   ]
  },
  {
   "cell_type": "code",
   "execution_count": 5,
   "id": "0f3b804f-75d4-4e98-ac78-a22d26d79cad",
   "metadata": {},
   "outputs": [
    {
     "data": {
      "text/plain": [
       "-27"
      ]
     },
     "execution_count": 5,
     "metadata": {},
     "output_type": "execute_result"
    }
   ],
   "source": [
    "69-96"
   ]
  },
  {
   "cell_type": "code",
   "execution_count": 7,
   "id": "75fd56d3-08d4-4233-bebb-fde2f577a6f1",
   "metadata": {},
   "outputs": [],
   "source": [
    "#Assignment Operation"
   ]
  },
  {
   "cell_type": "code",
   "execution_count": 15,
   "id": "ffac55f1-4e46-4da2-9754-7c181378b289",
   "metadata": {},
   "outputs": [
    {
     "name": "stdout",
     "output_type": "stream",
     "text": [
      "1\n"
     ]
    }
   ],
   "source": [
    "a = 0\n",
    "a +=1\n",
    "print(a)"
   ]
  },
  {
   "cell_type": "code",
   "execution_count": 16,
   "id": "dcf20f52-c52a-49ed-82d2-5df0399604e7",
   "metadata": {},
   "outputs": [
    {
     "name": "stdout",
     "output_type": "stream",
     "text": [
      "True\n"
     ]
    }
   ],
   "source": [
    "a = 2\n",
    "b = 98\n",
    "\n",
    "print(a != b)\n"
   ]
  },
  {
   "cell_type": "code",
   "execution_count": 5,
   "id": "fc93deeb-ea62-4c81-b74e-d6f48ef5a4d1",
   "metadata": {},
   "outputs": [
    {
     "data": {
      "text/plain": [
       "True"
      ]
     },
     "execution_count": 5,
     "metadata": {},
     "output_type": "execute_result"
    }
   ],
   "source": [
    "#Membership Operator ( in and not in )\n",
    "\n",
    "mylist = [\"abja\",\"jbahfg\",\"jhavfgyhas\",\"bdhgda\",\"okok\"]\n",
    "\"okok\" in mylist"
   ]
  },
  {
   "cell_type": "code",
   "execution_count": 6,
   "id": "5d0c191b-28e1-447d-80e9-fa92fe190ab7",
   "metadata": {},
   "outputs": [
    {
     "data": {
      "text/plain": [
       "False"
      ]
     },
     "execution_count": 6,
     "metadata": {},
     "output_type": "execute_result"
    }
   ],
   "source": [
    "\"okok\" not in mylist"
   ]
  },
  {
   "cell_type": "code",
   "execution_count": 8,
   "id": "862d9879-368b-4257-ac5b-68acf9cb549d",
   "metadata": {},
   "outputs": [
    {
     "data": {
      "text/plain": [
       "False"
      ]
     },
     "execution_count": 8,
     "metadata": {},
     "output_type": "execute_result"
    }
   ],
   "source": [
    "#and(both true),or(),not() \n",
    "\n",
    "3>2 and 2>3"
   ]
  },
  {
   "cell_type": "code",
   "execution_count": 9,
   "id": "fcc0b44c-78c0-4bb3-896b-0e1d2f06fc34",
   "metadata": {},
   "outputs": [
    {
     "data": {
      "text/plain": [
       "True"
      ]
     },
     "execution_count": 9,
     "metadata": {},
     "output_type": "execute_result"
    }
   ],
   "source": [
    "4>2 or 2>3"
   ]
  },
  {
   "cell_type": "code",
   "execution_count": 26,
   "id": "ef89f51f-7d90-4dae-8c04-71c7c704d229",
   "metadata": {},
   "outputs": [
    {
     "name": "stdout",
     "output_type": "stream",
     "text": [
      "nana\n"
     ]
    }
   ],
   "source": [
    "#list \n",
    "fruits = [\"Apple\", \"Banana\", \"Orange\"]\n",
    "print(fruits[1][2:])"
   ]
  },
  {
   "cell_type": "code",
   "execution_count": 28,
   "id": "fb2fa41a-8676-4230-98d7-f9e098fb1ccf",
   "metadata": {},
   "outputs": [
    {
     "data": {
      "text/plain": [
       "['Apple', 'Banana', 'Orange', 'grapes']"
      ]
     },
     "execution_count": 28,
     "metadata": {},
     "output_type": "execute_result"
    }
   ],
   "source": [
    "fruits.append(\"grapes\")\n",
    "fruits"
   ]
  },
  {
   "cell_type": "code",
   "execution_count": 29,
   "id": "b103f8a0-136f-44cd-9588-d843909057d9",
   "metadata": {},
   "outputs": [
    {
     "data": {
      "text/plain": [
       "['Apple', 'Orange', 'grapes']"
      ]
     },
     "execution_count": 29,
     "metadata": {},
     "output_type": "execute_result"
    }
   ],
   "source": [
    "fruits.remove(\"Banana\")\n",
    "fruits"
   ]
  },
  {
   "cell_type": "code",
   "execution_count": 31,
   "id": "e596a530-59f6-4cac-9db1-169ea9601d19",
   "metadata": {},
   "outputs": [
    {
     "data": {
      "text/plain": [
       "[]"
      ]
     },
     "execution_count": 31,
     "metadata": {},
     "output_type": "execute_result"
    }
   ],
   "source": [
    "fruits.clear()\n",
    "fruits"
   ]
  },
  {
   "cell_type": "code",
   "execution_count": 32,
   "id": "c61fd200-9228-4f6b-bd05-0b8f373ba86a",
   "metadata": {},
   "outputs": [
    {
     "name": "stdout",
     "output_type": "stream",
     "text": [
      "['afdsafs', 'faerg', 'eagyjy', 'ethjv', 'vsgrhh', 'teswgd']\n"
     ]
    }
   ],
   "source": [
    "x = [\"afdsafs\",\"faerg\",\"eagyjy\"]\n",
    "y = [\"ethjv\",\"vsgrhh\",\"teswgd\"]\n",
    "\n",
    "z = x + y \n",
    "print(z)"
   ]
  },
  {
   "cell_type": "code",
   "execution_count": 33,
   "id": "959fa011-2be4-452d-861d-81a0e65447c9",
   "metadata": {},
   "outputs": [
    {
     "data": {
      "text/plain": [
       "('saree', 'chudithar', 'half saree', 'choli')"
      ]
     },
     "execution_count": 33,
     "metadata": {},
     "output_type": "execute_result"
    }
   ],
   "source": [
    "#Tuples\n",
    "women_clothes=['saree', 'chudithar', 'half saree', 'choli'] \n",
    "cloth_tuple=tuple(women_clothes)\n",
    "cloth_tuple"
   ]
  },
  {
   "cell_type": "code",
   "execution_count": 1,
   "id": "ecc5f1cb-f06b-49c6-8456-2a670fb0587e",
   "metadata": {},
   "outputs": [
    {
     "name": "stdout",
     "output_type": "stream",
     "text": [
      "String: Hello, Python!\n",
      "Length of the string: 14\n",
      "Uppercase: HELLO, PYTHON!\n",
      "Substring: Hello\n",
      "\n",
      "List: [1, 2, 3, 4, 5]\n",
      "Length of the list: 5\n",
      "List after append: [1, 2, 3, 4, 5, 6]\n",
      "First element: 1\n",
      "Slice of list: [2, 3, 4]\n",
      "\n",
      "Tuple: (10, 20, 30, 40, 50)\n",
      "Length of the tuple: 5\n",
      "First element: 10\n",
      "Slice of tuple: (20, 30, 40)\n",
      "\n",
      "Dictionary: {'name': 'Alice', 'age': 25, 'city': 'New York'}\n",
      "Length of the dictionary: 3\n",
      "Value for 'name': Alice\n",
      "Dictionary after adding 'email': {'name': 'Alice', 'age': 25, 'city': 'New York', 'email': 'alice@example.com'}\n",
      "All keys: ['name', 'age', 'city', 'email']\n",
      "All values: ['Alice', 25, 'New York', 'alice@example.com']\n",
      "\n",
      "Set: {1, 2, 3, 4, 5}\n",
      "Length of the set: 5\n",
      "Set after adding 6: {1, 2, 3, 4, 5, 6}\n",
      "Set after adding multiple elements: {1, 2, 3, 4, 5, 6, 7, 8, 9}\n",
      "Set after removing 3: {1, 2, 4, 5, 6, 7, 8, 9}\n",
      "\n",
      "Boolean is_active: True\n",
      "Boolean is_admin: False\n",
      "Logical AND: False\n",
      "Logical OR: True\n",
      "\n",
      "NoneType variable: None\n",
      "Is NoneType variable None? True\n",
      "\n",
      "Integer: 42\n",
      "Integer after addition: 50\n",
      "Integer after multiplication: 84\n",
      "\n",
      "Float: 3.14\n",
      "Float after addition: 5.140000000000001\n",
      "Float after multiplication: 6.28\n",
      "\n",
      "Complex number: (2+3j)\n",
      "Real part: 2.0\n",
      "Imaginary part: 3.0\n",
      "Complex number after addition: (3+5j)\n",
      "Complex number after multiplication: (4+6j)\n"
     ]
    }
   ],
   "source": [
    "# String\n",
    "my_string = \"Hello, Python!\"\n",
    "print(f\"String: {my_string}\")\n",
    "print(f\"Length of the string: {len(my_string)}\")\n",
    "print(f\"Uppercase: {my_string.upper()}\")\n",
    "print(f\"Substring: {my_string[0:5]}\")\n",
    "print()\n",
    "\n",
    "# List\n",
    "my_list = [1, 2, 3, 4, 5]\n",
    "print(f\"List: {my_list}\")\n",
    "print(f\"Length of the list: {len(my_list)}\")\n",
    "my_list.append(6)\n",
    "print(f\"List after append: {my_list}\")\n",
    "print(f\"First element: {my_list[0]}\")\n",
    "print(f\"Slice of list: {my_list[1:4]}\")\n",
    "print()\n",
    "\n",
    "# Tuple\n",
    "my_tuple = (10, 20, 30, 40, 50)\n",
    "print(f\"Tuple: {my_tuple}\")\n",
    "print(f\"Length of the tuple: {len(my_tuple)}\")\n",
    "print(f\"First element: {my_tuple[0]}\")\n",
    "print(f\"Slice of tuple: {my_tuple[1:4]}\")\n",
    "print()\n",
    "\n",
    "# Dictionary\n",
    "my_dict = {\"name\": \"Alice\", \"age\": 25, \"city\": \"New York\"}\n",
    "print(f\"Dictionary: {my_dict}\")\n",
    "print(f\"Length of the dictionary: {len(my_dict)}\")\n",
    "print(f\"Value for 'name': {my_dict['name']}\")\n",
    "my_dict[\"email\"] = \"alice@example.com\"\n",
    "print(f\"Dictionary after adding 'email': {my_dict}\")\n",
    "print(f\"All keys: {list(my_dict.keys())}\")\n",
    "print(f\"All values: {list(my_dict.values())}\")\n",
    "print()\n",
    "\n",
    "# Set\n",
    "my_set = {1, 2, 3, 4, 5}\n",
    "print(f\"Set: {my_set}\")\n",
    "print(f\"Length of the set: {len(my_set)}\")\n",
    "my_set.add(6)\n",
    "print(f\"Set after adding 6: {my_set}\")\n",
    "my_set.update([7, 8, 9])\n",
    "print(f\"Set after adding multiple elements: {my_set}\")\n",
    "my_set.remove(3)\n",
    "print(f\"Set after removing 3: {my_set}\")\n",
    "print()\n",
    "\n",
    "# Boolean\n",
    "is_active = True\n",
    "is_admin = False\n",
    "print(f\"Boolean is_active: {is_active}\")\n",
    "print(f\"Boolean is_admin: {is_admin}\")\n",
    "print(f\"Logical AND: {is_active and is_admin}\")\n",
    "print(f\"Logical OR: {is_active or is_admin}\")\n",
    "print()\n",
    "\n",
    "# NoneType\n",
    "my_none = None\n",
    "print(f\"NoneType variable: {my_none}\")\n",
    "print(f\"Is NoneType variable None? {my_none is None}\")\n",
    "print()\n",
    "\n",
    "# Integer\n",
    "my_int = 42\n",
    "print(f\"Integer: {my_int}\")\n",
    "print(f\"Integer after addition: {my_int + 8}\")\n",
    "print(f\"Integer after multiplication: {my_int * 2}\")\n",
    "print()\n",
    "\n",
    "# Float\n",
    "my_float = 3.14\n",
    "print(f\"Float: {my_float}\")\n",
    "print(f\"Float after addition: {my_float + 2.0}\")\n",
    "print(f\"Float after multiplication: {my_float * 2}\")\n",
    "print()\n",
    "\n",
    "# Complex Number\n",
    "my_complex = 2 + 3j\n",
    "print(f\"Complex number: {my_complex}\")\n",
    "print(f\"Real part: {my_complex.real}\")\n",
    "print(f\"Imaginary part: {my_complex.imag}\")\n",
    "print(f\"Complex number after addition: {my_complex + (1 + 2j)}\")\n",
    "print(f\"Complex number after multiplication: {my_complex * 2}\")\n"
   ]
  },
  {
   "cell_type": "code",
   "execution_count": null,
   "id": "bbb0b581-cb6a-468a-a99a-0929333f4d3f",
   "metadata": {},
   "outputs": [],
   "source": [
    "# Length of a string\n",
    "my_string = \"Hello, World!\"\n",
    "print(f\"The length of the string is: {len(my_string)}\")\n",
    "\n",
    "# Length of a list\n",
    "my_list = [1, 2, 3, 4, 5]\n",
    "print(f\"The length of the list is: {len(my_list)}\")\n",
    "\n",
    "# Length of a tuple\n",
    "my_tuple = (10, 20, 30, 40)\n",
    "print(f\"The length of the tuple is: {len(my_tuple)}\")\n",
    "\n",
    "# Length of a dictionary\n",
    "my_dict = {\"name\": \"Alice\", \"age\": 25, \"city\": \"New York\"}\n",
    "print(f\"The number of items in the dictionary is: {len(my_dict)}\")\n",
    "\n",
    "# Length of a set\n",
    "my_set = {1, 2, 3, 4, 5}\n",
    "print(f\"The length of the set is: {len(my_set)}\")\n"
   ]
  }
 ],
 "metadata": {
  "kernelspec": {
   "display_name": "Python 3 (ipykernel)",
   "language": "python",
   "name": "python3"
  },
  "language_info": {
   "codemirror_mode": {
    "name": "ipython",
    "version": 3
   },
   "file_extension": ".py",
   "mimetype": "text/x-python",
   "name": "python",
   "nbconvert_exporter": "python",
   "pygments_lexer": "ipython3",
   "version": "3.11.7"
  }
 },
 "nbformat": 4,
 "nbformat_minor": 5
}
