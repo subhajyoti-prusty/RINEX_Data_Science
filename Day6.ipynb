{
 "cells": [
  {
   "cell_type": "markdown",
   "id": "ef7cf71c-b812-494c-b8b8-b5f645f0e2db",
   "metadata": {},
   "source": [
    "# Weather Data Classification using Scikit-learn\n",
    "\n",
    "Import the necessary Libraries\n",
    "\n",
    "First we import the necessary Libraries of python for the demonstration of the Decision Tree Classifier"
   ]
  },
  {
   "cell_type": "code",
   "execution_count": 2,
   "id": "c909d389-191d-4c5e-a22a-2f09503acaa3",
   "metadata": {},
   "outputs": [],
   "source": [
    "import pandas as pd \n",
    "from sklearn.metrics import accuracy_score\n",
    "from sklearn.model_selection import train_test_split\n",
    "from sklearn.tree import DecisionTreeClassifier"
   ]
  },
  {
   "cell_type": "markdown",
   "id": "8c0118d8-4f62-4728-940b-6b93c38a631e",
   "metadata": {},
   "source": [
    "Read the data of the weather from the csv file using read_csv function of pandas dataframe"
   ]
  },
  {
   "cell_type": "code",
   "execution_count": null,
   "id": "73f2fcd0-f5ec-48b7-a875-3d33258a7afb",
   "metadata": {},
   "outputs": [],
   "source": [
    "data  = pd.read_csv('')"
   ]
  },
  {
   "cell_type": "markdown",
   "id": "93c1612c-8e06-48b7-bdab-7e88e345b086",
   "metadata": {},
   "source": [
    "## Daily Weather Data Description \n",
    "\n",
    "The file **daily_weather.csv** is a comma-separated file that contains weather data. This data comes from a weather station located in San Diego, California. The weather station is equipped with sensors that capture weather-related measurements such as air temperature, air pressure, and relative humidity. Data was collected for a period of three years, from September 2011 to September 2014, to ensure that sufficient data for different seasons and weather conditions is captured.\n",
    "\r\n",
    "Let's now check all the columns in the data\n",
    "\n",
    ".\r\n",
    "Know about various columns in the dataset.\n"
   ]
  },
  {
   "cell_type": "code",
   "execution_count": null,
   "id": "4a0b7d8f-a1da-44a3-a515-bfd2222a347d",
   "metadata": {},
   "outputs": [],
   "source": []
  }
 ],
 "metadata": {
  "kernelspec": {
   "display_name": "Python 3 (ipykernel)",
   "language": "python",
   "name": "python3"
  },
  "language_info": {
   "codemirror_mode": {
    "name": "ipython",
    "version": 3
   },
   "file_extension": ".py",
   "mimetype": "text/x-python",
   "name": "python",
   "nbconvert_exporter": "python",
   "pygments_lexer": "ipython3",
   "version": "3.11.7"
  }
 },
 "nbformat": 4,
 "nbformat_minor": 5
}
