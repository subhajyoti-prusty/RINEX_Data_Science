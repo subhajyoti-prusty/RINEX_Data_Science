{
 "cells": [
  {
   "cell_type": "code",
   "execution_count": 1,
   "id": "2893f8f4-3134-4bfc-80c6-8ca12f3f8a31",
   "metadata": {},
   "outputs": [
    {
     "name": "stdout",
     "output_type": "stream",
     "text": [
      "Something\n"
     ]
    }
   ],
   "source": [
    "print(\"Something\")"
   ]
  },
  {
   "cell_type": "code",
   "execution_count": 3,
   "id": "1c38a949-ed4c-4d2b-9136-8d50837f1022",
   "metadata": {},
   "outputs": [
    {
     "name": "stdout",
     "output_type": "stream",
     "text": [
      "False\n",
      "True\n"
     ]
    }
   ],
   "source": [
    "if(2>3):\n",
    "    print(\"True\")\n",
    "else: \n",
    "    print(\"False\")\n",
    "\n",
    "if(2<3):\n",
    "    print(\"True\")\n",
    "else: \n",
    "    print(\"False\")"
   ]
  },
  {
   "cell_type": "code",
   "execution_count": 5,
   "id": "16813f89-2930-4574-912f-55fe0c0fa426",
   "metadata": {},
   "outputs": [],
   "source": [
    "#We are going to get the marks of students and give them grades for their marks \n",
    "#1. If students get more than 90, then their grade is A\n",
    "#2. If students get between 70-90, then their grade is B\n",
    "#3. If students get between 50-70, then their grade is C\n",
    "#4. If students get between 40-50, then their grade is D\n",
    "#5. If students get below 40, then their grade is F"
   ]
  },
  {
   "cell_type": "code",
   "execution_count": 25,
   "id": "27ed9a5e-d50a-4797-815c-04111a17a994",
   "metadata": {},
   "outputs": [
    {
     "name": "stdin",
     "output_type": "stream",
     "text": [
      "Hey, Enter your name:  sadsl\n"
     ]
    },
    {
     "name": "stdout",
     "output_type": "stream",
     "text": [
      "Enter your mark, sadsl: \n"
     ]
    },
    {
     "name": "stdin",
     "output_type": "stream",
     "text": [
      " 120\n"
     ]
    },
    {
     "name": "stdout",
     "output_type": "stream",
     "text": [
      "Invalid Mark, Try to enter correct mark\n"
     ]
    }
   ],
   "source": [
    "Name = input(\"Hey, Enter your name: \")\n",
    "print(f\"Enter your mark, {Name}: \")\n",
    "Mark = int(input())\n",
    "\n",
    "if Mark >= 90 and Mark <= 100:\n",
    "    print(\"Your grade is A\")\n",
    "elif Mark > 70 and Mark < 90:\n",
    "    print(\"Your grade is B\")\n",
    "elif Mark > 50 and Mark <= 70:\n",
    "    print(\"Your grade is C\")\n",
    "elif Mark >= 40 and Mark <= 50:\n",
    "    print(\"Your grade is D\")\n",
    "elif Mark < 40:\n",
    "    print(\"Your grade is F\")\n",
    "else:\n",
    "    print(\"Invalid Mark, Try to enter correct mark\")\n"
   ]
  },
  {
   "cell_type": "code",
   "execution_count": 26,
   "id": "5f1978fc-0e7f-4497-9e4a-cf6488c5b950",
   "metadata": {},
   "outputs": [],
   "source": [
    "#For every player in a cricket match, you give a diamond trophy if he has more than 500 runs in a season and a platinum trophy if he has more than 25 wickets.\n",
    "\n",
    "#You need to ask if a player is a batsman or a bowler if he is a batsman,\n",
    "#kindy asks, no of runs scored, if he scored more than 500 runs, give him the diamond trophy.\n",
    "\n",
    "#If he replied, he is a bowler, ask him for the number of wickets. If the wickets are more than 25 in a season. Award him with \n",
    "#platinum trophy"
   ]
  },
  {
   "cell_type": "code",
   "execution_count": 38,
   "id": "7a8e9622-e62e-4afc-9035-22549c3d6149",
   "metadata": {},
   "outputs": [
    {
     "name": "stdout",
     "output_type": "stream",
     "text": [
      "Enter Your Role in Team\n"
     ]
    },
    {
     "name": "stdin",
     "output_type": "stream",
     "text": [
      " Batsman\n"
     ]
    },
    {
     "name": "stdout",
     "output_type": "stream",
     "text": [
      "Enter your total score of this session\n"
     ]
    },
    {
     "name": "stdin",
     "output_type": "stream",
     "text": [
      " 780\n"
     ]
    },
    {
     "name": "stdout",
     "output_type": "stream",
     "text": [
      "Yehh! You get a platinum trophy\n"
     ]
    }
   ],
   "source": [
    "print(\"Enter Your Role in Team\")\n",
    "Role = input()\n",
    "if Role == \"Batsman\":\n",
    "    print(\"Enter your total score of this session\")\n",
    "    Score = int(input())\n",
    "    if Score > 500:\n",
    "        print(\"Yehh! You get a platinum trophy\")\n",
    "    else:\n",
    "        print(\"Better luck next time\")\n",
    "elif Role == \"Bowler\":\n",
    "    print(\"Enter your total wickets you took in this session\")\n",
    "    Wicket = int(input())\n",
    "    if Wicket > 25:\n",
    "        print(\"Yehh! You get a platinum trophy\")\n",
    "    else:\n",
    "        print(\"Better luck next time\")\n",
    "else:\n",
    "    print(\"Invalid Role, please enter either 'Batsman' or 'Bowler'\")"
   ]
  },
  {
   "cell_type": "code",
   "execution_count": 45,
   "id": "632c9697-17d6-44db-b5b3-4986e2b60c9c",
   "metadata": {},
   "outputs": [
    {
     "name": "stdout",
     "output_type": "stream",
     "text": [
      "THE EVEN NUMBERS\n",
      "2\n",
      "4\n",
      "6\n",
      "8\n",
      "10\n",
      "12\n",
      "14\n",
      "16\n",
      "18\n",
      "20\n",
      "22\n",
      "24\n",
      "26\n",
      "28\n",
      "30\n",
      "32\n",
      "34\n",
      "36\n",
      "38\n",
      "40\n",
      "42\n",
      "44\n",
      "46\n",
      "48\n",
      "50\n",
      "52\n",
      "54\n",
      "56\n",
      "58\n",
      "60\n",
      "62\n",
      "64\n",
      "66\n",
      "68\n",
      "70\n",
      "72\n",
      "74\n",
      "76\n",
      "78\n",
      "80\n",
      "82\n",
      "84\n",
      "86\n",
      "88\n",
      "90\n",
      "92\n",
      "94\n",
      "96\n",
      "98\n",
      "100\n",
      "THE ODD NUMBERS\n",
      "1\n",
      "3\n",
      "5\n",
      "7\n",
      "9\n",
      "11\n",
      "13\n",
      "15\n",
      "17\n",
      "19\n",
      "21\n",
      "23\n",
      "25\n",
      "27\n",
      "29\n",
      "31\n",
      "33\n",
      "35\n",
      "37\n",
      "39\n",
      "41\n",
      "43\n",
      "45\n",
      "47\n",
      "49\n",
      "51\n",
      "53\n",
      "55\n",
      "57\n",
      "59\n",
      "61\n",
      "63\n",
      "65\n",
      "67\n",
      "69\n",
      "71\n",
      "73\n",
      "75\n",
      "77\n",
      "79\n",
      "81\n",
      "83\n",
      "85\n",
      "87\n",
      "89\n",
      "91\n",
      "93\n",
      "95\n",
      "97\n",
      "99\n"
     ]
    }
   ],
   "source": [
    "# FOR LOOP \n",
    "\n",
    "print(\"THE EVEN NUMBERS\")\n",
    "for i in range(1,101):\n",
    "    if(i%2 == 0):\n",
    "        print(i)\n",
    "        \n",
    "print(\"THE ODD NUMBERS\")\n",
    "for i in range(1,101):\n",
    "    if(i%2 == 1):\n",
    "        print(i)"
   ]
  },
  {
   "cell_type": "code",
   "execution_count": 49,
   "id": "e8a2cc22-dc0f-47cd-8bdf-c687a003f966",
   "metadata": {},
   "outputs": [
    {
     "name": "stdin",
     "output_type": "stream",
     "text": [
      "Input your word racecar\n"
     ]
    },
    {
     "name": "stdout",
     "output_type": "stream",
     "text": [
      "It's a Palindrome\n"
     ]
    }
   ],
   "source": [
    "#Palindrome\n",
    "def Palindrome(Word):\n",
    "    Reverse_Word = Word[::-1]\n",
    "    if Word == Reverse_Word:\n",
    "        print(\"It's a Palindrome\")\n",
    "    else:\n",
    "        print(\"It's not a Palindrome\")\n",
    "        \n",
    "Word = input(\"Input your word\")\n",
    "Palindrome(Word)"
   ]
  },
  {
   "cell_type": "code",
   "execution_count": 53,
   "id": "c3c43809-7a6b-4393-92dd-857720194678",
   "metadata": {},
   "outputs": [
    {
     "name": "stdout",
     "output_type": "stream",
     "text": [
      "4\n",
      "5\n",
      "6\n",
      "7\n",
      "8\n",
      "9\n",
      "10\n"
     ]
    }
   ],
   "source": [
    "# WHILE LOOP\n",
    "\n",
    "i = 4\n",
    "while i <= 10:\n",
    "    print(i)\n",
    "    i+=1\n",
    "    "
   ]
  },
  {
   "cell_type": "code",
   "execution_count": null,
   "id": "08e40cbd-2f47-4183-997e-e077a8a83835",
   "metadata": {},
   "outputs": [],
   "source": [
    "i = 4\n",
    "while i <= 10:\n",
    "    print(i)\n",
    "    if i == 7:\n",
    "        break\n",
    "    i+=1\n",
    "\n",
    "i = 4\n",
    "while i <= 10:\n",
    "    print(i)\n",
    "    if i == 7:\n",
    "        continue\n",
    "    i+=1\n"
   ]
  },
  {
   "cell_type": "code",
   "execution_count": 58,
   "id": "691e225c-af00-4d61-a0d7-015605791a05",
   "metadata": {},
   "outputs": [
    {
     "name": "stdout",
     "output_type": "stream",
     "text": [
      "5\n",
      "10\n",
      "15\n",
      "20\n",
      "25\n",
      "30\n",
      "35\n",
      "40\n",
      "45\n",
      "50\n",
      "55\n",
      "60\n",
      "65\n",
      "70\n",
      "75\n",
      "80\n",
      "85\n",
      "90\n",
      "95\n",
      "100\n"
     ]
    }
   ],
   "source": [
    "i = 1\n",
    "while i <= 100:\n",
    "    if i % 5 == 0 or i % 10 == 0:\n",
    "        print(i)\n",
    "    i += 1\n"
   ]
  },
  {
   "cell_type": "code",
   "execution_count": null,
   "id": "c73916ac-1bd8-4573-b30d-cb268e91c3e9",
   "metadata": {},
   "outputs": [],
   "source": []
  }
 ],
 "metadata": {
  "kernelspec": {
   "display_name": "Python 3 (ipykernel)",
   "language": "python",
   "name": "python3"
  },
  "language_info": {
   "codemirror_mode": {
    "name": "ipython",
    "version": 3
   },
   "file_extension": ".py",
   "mimetype": "text/x-python",
   "name": "python",
   "nbconvert_exporter": "python",
   "pygments_lexer": "ipython3",
   "version": "3.11.7"
  }
 },
 "nbformat": 4,
 "nbformat_minor": 5
}
